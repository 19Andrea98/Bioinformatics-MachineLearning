{
 "cells": [
  {
   "cell_type": "code",
   "execution_count": 3,
   "id": "09785799",
   "metadata": {},
   "outputs": [],
   "source": [
    "import pandas as pd\n",
    "import numpy as np\n",
    "import gc\n",
    "import os\n",
    "\n",
    "from glob import glob"
   ]
  },
  {
   "cell_type": "markdown",
   "id": "7cc85899",
   "metadata": {},
   "source": [
    "## Part 1 - Retain inoviridae and microviridae only\n",
    "Caudovirales is the most abundant phage class across all datasets available on PhagesDB. For this reason, I developed this code to specifically collect the Inoviridae and Microviridae classes present in all datasets downloadable from PhagesDB."
   ]
  },
  {
   "cell_type": "code",
   "execution_count": null,
   "id": "c24be7bd",
   "metadata": {},
   "outputs": [],
   "source": [
    "# Chane the folder path with the one where yout datasets are retained\n",
    "folder_path = r\"/media/ssd/Cleaned_datasets/000_dataset/\"\n",
    "files = glob(os.path.join(folder_path, \"*.csv\"))\n",
    "\n",
    "categories = ['inoviridae', 'microviridae']\n",
    "data_collected = []\n",
    "\n",
    "for f in files:\n",
    "    data = pd.read_csv(f)\n",
    "    print(f'Working with file {f}')\n",
    "\n",
    "    for i in range(len(data)):\n",
    "        if str(data.loc[i, 'Taxonomy']).strip().lower() in categories:\n",
    "            data_collected.append(data.iloc[i])"
   ]
  },
  {
   "cell_type": "code",
   "execution_count": null,
   "id": "f224c447",
   "metadata": {},
   "outputs": [],
   "source": [
    "# Visualizza un'anteprima\n",
    "file = pd.DataFrame(data_collected).reset_index()"
   ]
  },
  {
   "cell_type": "markdown",
   "id": "f45c8a2f",
   "metadata": {},
   "source": [
    "## Part 2 - Merge PhagesDB with other samples\n",
    "It has been decided to merge the previously collected classes with PhageDB dataset"
   ]
  },
  {
   "cell_type": "code",
   "execution_count": null,
   "id": "c72095d1",
   "metadata": {},
   "outputs": [],
   "source": [
    "# Change the file path with the one where PhagesDB is\n",
    "file_path = r\"/media/ssd/Cleaned_datasets/000_dataset/cleaned_PHAGESDB_dataset.csv\"\n",
    "file_2 = pd.read_csv(file_path)"
   ]
  },
  {
   "cell_type": "code",
   "execution_count": null,
   "id": "f50ce603",
   "metadata": {},
   "outputs": [],
   "source": [
    "dataset = pd.concat([file_2, file], ignore_index=True)"
   ]
  },
  {
   "cell_type": "code",
   "execution_count": null,
   "id": "e81c341d",
   "metadata": {},
   "outputs": [],
   "source": [
    "# Change the file_path with the one where you intend to save your dataset\n",
    "file_path = r'/home/squarna/Desktop/cleaned_MIXED_dataset.csv'\n",
    "file = pd.read_csv(file_path)"
   ]
  }
 ],
 "metadata": {
  "kernelspec": {
   "display_name": "base",
   "language": "python",
   "name": "python3"
  },
  "language_info": {
   "codemirror_mode": {
    "name": "ipython",
    "version": 3
   },
   "file_extension": ".py",
   "mimetype": "text/x-python",
   "name": "python",
   "nbconvert_exporter": "python",
   "pygments_lexer": "ipython3",
   "version": "3.13.5"
  }
 },
 "nbformat": 4,
 "nbformat_minor": 5
}
